{
 "cells": [
  {
   "cell_type": "code",
   "execution_count": null,
   "metadata": {},
   "outputs": [],
   "source": [
    "# !pip install snscrape\n",
    "# !pip install snscrape==0.4.3.20220106\n",
    "\n",
    "import snscrape.modules.twitter as sntwitter\n",
    "import pandas as pd\n",
    "pd.set_option('display.max_columns', None)"
   ]
  },
  {
   "cell_type": "code",
   "execution_count": null,
   "metadata": {},
   "outputs": [],
   "source": [
    "query = \"PSSI\" or \"pssi\"\n",
    "tweets = []\n",
    "limits = 200000"
   ]
  },
  {
   "cell_type": "code",
   "execution_count": null,
   "metadata": {},
   "outputs": [],
   "source": [
    "for tweet in sntwitter.TwitterSearchScraper(query).get_items():\n",
    "    if len(tweets) == limits:\n",
    "        break\n",
    "    if tweet.mentionedUsers == None:\n",
    "        tweets.append([tweet.url,tweet.date, tweet.user.username, tweet.content, tweet.id, tweet.user.followersCount, tweet.user.friendsCount, tweet.user.statusesCount, tweet.user.location, tweet.replyCount, tweet.retweetCount, tweet.likeCount, tweet.mentionedUsers])\n",
    "    else:\n",
    "        tweets.append([tweet.url,tweet.date, tweet.user.username, tweet.content, tweet.id, tweet.user.followersCount, tweet.user.friendsCount, tweet.user.statusesCount, tweet.user.location, tweet.replyCount, tweet.retweetCount, tweet.likeCount, tweet.mentionedUsers[0].username])\n",
    "        print(vars(tweet))"
   ]
  },
  {
   "cell_type": "code",
   "execution_count": null,
   "metadata": {},
   "outputs": [],
   "source": [
    "df = pd.DataFrame(tweets, columns = ['url','date', 'user', 'tweet', \"tweet_id\", \"followers_count\", \"friends_count\", \"statuses_count\", \"location\", \"reply_count\", \"retweet_count\", \"like_count\", \"mentioned_user\"])\n",
    "df.head()"
   ]
  },
  {
   "cell_type": "code",
   "execution_count": null,
   "metadata": {},
   "outputs": [],
   "source": [
    "print(\"Maximum followers: \", df['followers_count'].max())\n",
    "print(\"Maximum like: \", df['like_count'].max())\n",
    "print(\"Maxim retweet\",df['retweet_count'].max())\n",
    "print(\"Maxim reply\",df['reply_count'].max())"
   ]
  },
  {
   "cell_type": "code",
   "execution_count": null,
   "metadata": {},
   "outputs": [],
   "source": [
    "# Dump data to csv\n",
    "\n",
    "df.to_csv('pssi_tweet.csv') "
   ]
  }
 ],
 "metadata": {
  "kernelspec": {
   "display_name": "Python 3.9.4 64-bit",
   "language": "python",
   "name": "python3"
  },
  "language_info": {
   "name": "python",
   "version": "3.9.4"
  },
  "orig_nbformat": 4,
  "vscode": {
   "interpreter": {
    "hash": "8f8cf99212f81ad0c4765861267244807ee1c18364846cdce387b28994a977ba"
   }
  }
 },
 "nbformat": 4,
 "nbformat_minor": 2
}
